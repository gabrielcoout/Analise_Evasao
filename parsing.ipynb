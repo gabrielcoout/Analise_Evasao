{
 "cells": [
  {
   "cell_type": "code",
   "execution_count": 3,
   "metadata": {},
   "outputs": [],
   "source": [
    "import pandas as pd\n",
    "import numpy as np\n",
    "import re\n",
    "import os"
   ]
  },
  {
   "cell_type": "code",
   "execution_count": 89,
   "metadata": {},
   "outputs": [],
   "source": [
    "df = pd.read_csv(r'C:\\Users\\gabri\\Workplace\\LabEstat\\code\\data\\data_oferta.csv', encoding='latin1')\n",
    "df = df.rename(columns={'Unnamed: 1': 'Oferta'})"
   ]
  },
  {
   "cell_type": "code",
   "execution_count": 77,
   "metadata": {},
   "outputs": [
    {
     "data": {
      "text/plain": [
       "6     [Engenharia, de, Bioprocessos, Bacharelado, Ex...\n",
       "7     [Artes, Visuais, Licenciatura, Extensivo, Vesp...\n",
       "8     [Cinema, e, Audiovisual, Bacharelado, Extensiv...\n",
       "9            [Dança, Licenciatura, Extensivo, Matutino]\n",
       "10       [Museologia, Bacharelado, Extensivo, Matutino]\n",
       "11        [Música, Licenciatura, Extensivo, Vespertino]\n",
       "12           [Teatro, Licenciatura, Extensivo, Noturno]\n",
       "13    [Produção, Cênica, Tecnológico, Extensivo, Not...\n",
       "14    [Produção, Multimídia, Tecnológico, Extensivo,...\n",
       "15    [Educação, Física, Licenciatura, Extensivo, Ma...\n",
       "16        [Pedagogia, Licenciatura, Extensivo, Noturno]\n",
       "17        [Pedagogia, Licenciatura, Extensivo, Noturno]\n",
       "18       [Pedagogia, Licenciatura, Extensivo, Matutino]\n",
       "19       [Pedagogia, Licenciatura, Extensivo, Matutino]\n",
       "Name: Instituto/Curso, dtype: object"
      ]
     },
     "execution_count": 77,
     "metadata": {},
     "output_type": "execute_result"
    }
   ],
   "source": [
    "df['Instituto/Curso'].str.split().str[:][6:20]"
   ]
  },
  {
   "cell_type": "code",
   "execution_count": 82,
   "metadata": {},
   "outputs": [
    {
     "data": {
      "text/plain": [
       "'Desenvolvimento Rural Bacharelado Extensivo Vespertino'"
      ]
     },
     "execution_count": 82,
     "metadata": {},
     "output_type": "execute_result"
    }
   ],
   "source": [
    "df['Instituto/Curso'][0]"
   ]
  },
  {
   "cell_type": "code",
   "execution_count": 90,
   "metadata": {},
   "outputs": [
    {
     "name": "stderr",
     "output_type": "stream",
     "text": [
      "C:\\Users\\gabri\\AppData\\Local\\Temp\\ipykernel_17500\\1689405723.py:11: SettingWithCopyWarning: \n",
      "A value is trying to be set on a copy of a slice from a DataFrame\n",
      "\n",
      "See the caveats in the documentation: https://pandas.pydata.org/pandas-docs/stable/user_guide/indexing.html#returning-a-view-versus-a-copy\n",
      "  df['Instituto/Curso'][index] = ' '.join(i[:a])\n"
     ]
    }
   ],
   "source": [
    "# df['Instituto/Curso'].str.split().str[:]\n",
    "for index, i in enumerate(df['Instituto/Curso'].str.split().str[:]):\n",
    "    \n",
    "    try:\n",
    "        a=i.index('Bacharelado')\n",
    "    except ValueError:\n",
    "        try:\n",
    "            a=i.index('Licenciatura')\n",
    "        except ValueError:\n",
    "            a=i.index('Tecnológico')\n",
    "    df['Instituto/Curso'][index] = ' '.join(i[:a])"
   ]
  },
  {
   "cell_type": "code",
   "execution_count": 91,
   "metadata": {},
   "outputs": [
    {
     "data": {
      "text/html": [
       "<div>\n",
       "<style scoped>\n",
       "    .dataframe tbody tr th:only-of-type {\n",
       "        vertical-align: middle;\n",
       "    }\n",
       "\n",
       "    .dataframe tbody tr th {\n",
       "        vertical-align: top;\n",
       "    }\n",
       "\n",
       "    .dataframe thead th {\n",
       "        text-align: right;\n",
       "    }\n",
       "</style>\n",
       "<table border=\"1\" class=\"dataframe\">\n",
       "  <thead>\n",
       "    <tr style=\"text-align: right;\">\n",
       "      <th></th>\n",
       "      <th>Instituto/Curso</th>\n",
       "      <th>Oferta</th>\n",
       "    </tr>\n",
       "  </thead>\n",
       "  <tbody>\n",
       "    <tr>\n",
       "      <th>0</th>\n",
       "      <td>Desenvolvimento Rural</td>\n",
       "      <td>46</td>\n",
       "    </tr>\n",
       "    <tr>\n",
       "      <th>1</th>\n",
       "      <td>Biomedicina</td>\n",
       "      <td>41</td>\n",
       "    </tr>\n",
       "    <tr>\n",
       "      <th>2</th>\n",
       "      <td>Biotecnologia</td>\n",
       "      <td>40</td>\n",
       "    </tr>\n",
       "    <tr>\n",
       "      <th>3</th>\n",
       "      <td>Ciências Biológicas</td>\n",
       "      <td>31</td>\n",
       "    </tr>\n",
       "    <tr>\n",
       "      <th>4</th>\n",
       "      <td>Ciências Biológicas</td>\n",
       "      <td>31</td>\n",
       "    </tr>\n",
       "    <tr>\n",
       "      <th>...</th>\n",
       "      <td>...</td>\n",
       "      <td>...</td>\n",
       "    </tr>\n",
       "    <tr>\n",
       "      <th>117</th>\n",
       "      <td>Engenharia Naval</td>\n",
       "      <td>26</td>\n",
       "    </tr>\n",
       "    <tr>\n",
       "      <th>118</th>\n",
       "      <td>Engenharia Química</td>\n",
       "      <td>26</td>\n",
       "    </tr>\n",
       "    <tr>\n",
       "      <th>119</th>\n",
       "      <td>Engenharia Química</td>\n",
       "      <td>25</td>\n",
       "    </tr>\n",
       "    <tr>\n",
       "      <th>120</th>\n",
       "      <td>Engenharia Sanitária e Ambiental</td>\n",
       "      <td>30</td>\n",
       "    </tr>\n",
       "    <tr>\n",
       "      <th>121</th>\n",
       "      <td>Engenharia Sanitária e Ambiental</td>\n",
       "      <td>30</td>\n",
       "    </tr>\n",
       "  </tbody>\n",
       "</table>\n",
       "<p>122 rows × 2 columns</p>\n",
       "</div>"
      ],
      "text/plain": [
       "                      Instituto/Curso  Oferta\n",
       "0               Desenvolvimento Rural      46\n",
       "1                         Biomedicina      41\n",
       "2                       Biotecnologia      40\n",
       "3                 Ciências Biológicas      31\n",
       "4                 Ciências Biológicas      31\n",
       "..                                ...     ...\n",
       "117                  Engenharia Naval      26\n",
       "118                Engenharia Química      26\n",
       "119                Engenharia Química      25\n",
       "120  Engenharia Sanitária e Ambiental      30\n",
       "121  Engenharia Sanitária e Ambiental      30\n",
       "\n",
       "[122 rows x 2 columns]"
      ]
     },
     "execution_count": 91,
     "metadata": {},
     "output_type": "execute_result"
    }
   ],
   "source": [
    "df"
   ]
  },
  {
   "cell_type": "code",
   "execution_count": 99,
   "metadata": {},
   "outputs": [
    {
     "data": {
      "text/plain": [
       "Instituto/Curso\n",
       "                            87\n",
       "Administração              138\n",
       "Arquitetura e Urbanismo     62\n",
       "Arquivologia                40\n",
       "Artes Visuais               36\n",
       "                          ... \n",
       "Serviço Social             123\n",
       "Sistemas de Informação      40\n",
       "Teatro                      40\n",
       "Terapia Ocupacional         33\n",
       "Turismo                     80\n",
       "Name: Oferta, Length: 69, dtype: int64"
      ]
     },
     "execution_count": 99,
     "metadata": {},
     "output_type": "execute_result"
    }
   ],
   "source": [
    "df.groupby('Instituto/Curso')['Oferta'].sum()"
   ]
  },
  {
   "cell_type": "code",
   "execution_count": 102,
   "metadata": {},
   "outputs": [
    {
     "data": {
      "text/plain": [
       "Instituto/Curso\n",
       "Direito               205\n",
       "Pedagogia             180\n",
       "Medicina              150\n",
       "Administração         135\n",
       "Física                130\n",
       "Serviço Social        120\n",
       "Engenharia Civil      120\n",
       "Ciências Contábeis    120\n",
       "Ciências Sociais      100\n",
       "Economia              100\n",
       "Name: Oferta, dtype: int64"
      ]
     },
     "execution_count": 102,
     "metadata": {},
     "output_type": "execute_result"
    }
   ],
   "source": [
    "import random\n",
    "((df.groupby('Instituto/Curso')['Oferta'].sum()// 5) * 5).sort_values(ascending=False)[:10]"
   ]
  }
 ],
 "metadata": {
  "kernelspec": {
   "display_name": "Python 3",
   "language": "python",
   "name": "python3"
  },
  "language_info": {
   "codemirror_mode": {
    "name": "ipython",
    "version": 3
   },
   "file_extension": ".py",
   "mimetype": "text/x-python",
   "name": "python",
   "nbconvert_exporter": "python",
   "pygments_lexer": "ipython3",
   "version": "3.10.3"
  },
  "orig_nbformat": 4
 },
 "nbformat": 4,
 "nbformat_minor": 2
}
