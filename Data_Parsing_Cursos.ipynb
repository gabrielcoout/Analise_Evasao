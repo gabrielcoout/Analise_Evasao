{
 "cells": [
  {
   "cell_type": "code",
   "execution_count": 171,
   "metadata": {},
   "outputs": [],
   "source": [
    "import pandas as pd\n",
    "import numpy as np\n",
    "import re\n",
    "import os"
   ]
  },
  {
   "cell_type": "code",
   "execution_count": 172,
   "metadata": {},
   "outputs": [],
   "source": [
    "path = os.path.abspath(r'C:\\Users\\gabri\\Workplace\\LabEstat\\code\\data\\t')\n",
    "list_archive = os.listdir(path)\n",
    "list_frames = [0 for x in list_archive]\n",
    "for index, archive in enumerate(list_archive):\n",
    "    try:\n",
    "        list_frames[index] = pd.read_csv(os.path.join(path,archive))\n",
    "    except Exception:\n",
    "        list_frames[index] = pd.read_csv(os.path.join(path,archive), encoding='latin1')\n"
   ]
  },
  {
   "cell_type": "code",
   "execution_count": 173,
   "metadata": {},
   "outputs": [
    {
     "data": {
      "text/plain": [
       "[[0, 8, 13, 17, 31, 33, 41, 50, 53, 63, 68, 78],\n",
       " [0, 4, 12, 16, 24, 35, 37, 48, 50, 55, 60, 69],\n",
       " [0, 5, 13, 16, 23, 32, 34, 42, 44, 51, 56, 64],\n",
       " [0, 5, 13, 16, 23, 33, 41, 43, 50, 55, 63],\n",
       " [0, 6, 16, 19, 27, 40, 42, 50, 52, 66, 71, 80],\n",
       " [0, 2, 8, 17, 20, 28, 40, 42, 56, 58, 68, 73, 83],\n",
       " [],\n",
       " [0, 2, 8, 17, 20, 27, 39, 41, 50, 53, 66, 71, 80],\n",
       " []]"
      ]
     },
     "execution_count": 173,
     "metadata": {},
     "output_type": "execute_result"
    }
   ],
   "source": [
    "exl_ls = [0 for x in list_frames]\n",
    "for index, i in enumerate(list_frames):\n",
    "    a = list_frames[index].iloc[:,0]\n",
    "    exl_ls[index] = list(list_frames[index][a.str.contains('Instituto')].index)\n",
    "exl_ls"
   ]
  },
  {
   "cell_type": "code",
   "execution_count": 174,
   "metadata": {},
   "outputs": [],
   "source": [
    "year = 2014\n",
    "dic={}\n",
    "for index, i in enumerate(list_frames):\n",
    "    try:\n",
    "        list_frames[index] = i.drop(exl_ls[index])\n",
    "    except KeyError:\n",
    "        pass\n",
    "    dic[year]= pd.Series([''.join(list(x)) for x in list_frames[index].iloc[:,0].str.extract(r'([A-Za-zçãâáéíâêôóúõ\\s]+)').values])\n",
    "    year+=1"
   ]
  },
  {
   "cell_type": "code",
   "execution_count": 175,
   "metadata": {},
   "outputs": [],
   "source": [
    "cursos = []\n",
    "for year in dic.keys():\n",
    "    for curso in list(dic[year].unique()):\n",
    "        if curso.strip() in cursos:\n",
    "            continue\n",
    "        else:\n",
    "            cursos.append(curso.strip())"
   ]
  },
  {
   "cell_type": "code",
   "execution_count": 176,
   "metadata": {
    "collapsed": true,
    "jupyter": {
     "outputs_hidden": true
    },
    "tags": []
   },
   "outputs": [
    {
     "data": {
      "text/plain": [
       "['Artes visuais',\n",
       " 'Cinema e Audiovisual',\n",
       " 'Dança',\n",
       " 'Museologia',\n",
       " 'Música',\n",
       " 'Teatro',\n",
       " 'Biomedicina',\n",
       " 'Biotecnologia',\n",
       " 'Ciências Biológicas',\n",
       " 'Educação Física',\n",
       " 'Pedagogia',\n",
       " 'Ciência da Computação',\n",
       " 'Ciências Naturais',\n",
       " 'Estatística',\n",
       " 'Física',\n",
       " 'Matemática',\n",
       " 'Química',\n",
       " 'Química Industrial',\n",
       " 'Sistemas de Informação',\n",
       " 'Direito',\n",
       " 'Enfermagem',\n",
       " 'Farmácia',\n",
       " 'Fisioterapia',\n",
       " 'Medicina',\n",
       " 'Nutrição',\n",
       " 'Odontologia',\n",
       " 'Terapia ocupacional',\n",
       " 'Administração',\n",
       " 'Arquivologia',\n",
       " 'Arquitetura e urbanismo',\n",
       " 'Biblioteconomia',\n",
       " 'Ciências Contábeis',\n",
       " 'Ciências Econômicas',\n",
       " 'Serviço Social',\n",
       " 'Turismo',\n",
       " 'Licenciatura Integrada em Educação em Ciências Matemática e Linguagens',\n",
       " 'Ciências Sociais',\n",
       " 'Filosofia',\n",
       " 'Geografia',\n",
       " 'História',\n",
       " 'Intervalar Psicologia',\n",
       " 'Psicologia',\n",
       " 'Geofísica',\n",
       " 'Geologia',\n",
       " 'Meteorologia',\n",
       " 'Oceanografia',\n",
       " 'Comunicação Social',\n",
       " 'Letras',\n",
       " 'Engenharia Civil',\n",
       " 'Engenharia da Computação',\n",
       " 'Engenharia de Alimentos',\n",
       " 'Engenharia de Telecomunicações',\n",
       " 'Engenharia Elétrica',\n",
       " 'Engenharia Mecânica',\n",
       " 'Engenharia Naval',\n",
       " 'Engenharia Química',\n",
       " 'Engenharia Sanitária',\n",
       " 'Engenharia Sanitária e Ambiental',\n",
       " 'Engenharia Ferroviária e Logística',\n",
       " 'Engenharia Biomédica',\n",
       " 'Total Geral',\n",
       " 'Artes Visuais',\n",
       " 'Tecnologia em Produção Multimídia',\n",
       " 'Terapia Ocupacional',\n",
       " 'Arquitetura e Urbanismo',\n",
       " 'Licenciatura Integrada em educação',\n",
       " 'Historia',\n",
       " 'Engenharia de Bioprocessos',\n",
       " 'Total',\n",
       " 'Desenvolvimento Rural',\n",
       " 'Produção Multimídia',\n",
       " 'Ciências Sociais Aplicadas',\n",
       " 'Economia',\n",
       " 'Total geral',\n",
       " 'Licenciatura Integrada em Ciências Matemática e Linguagens',\n",
       " 'Conservação e Restauro',\n",
       " 'Produção Cênica',\n",
       " 'História Mosqueiro',\n",
       " 'Educação Artística']"
      ]
     },
     "execution_count": 176,
     "metadata": {},
     "output_type": "execute_result"
    }
   ],
   "source": [
    "cursos"
   ]
  },
  {
   "cell_type": "code",
   "execution_count": 177,
   "metadata": {},
   "outputs": [
    {
     "name": "stdout",
     "output_type": "stream",
     "text": [
      "0 => 0 - []\n",
      "1 => 0 - []\n",
      "2 => 0 - []\n",
      "3 => 0 - []\n",
      "4 => 0 - []\n",
      "5 => 0 - []\n",
      "6 => 0 - []\n",
      "7 => 0 - []\n"
     ]
    }
   ],
   "source": [
    "# Finding NaN values to revise\n",
    "\n",
    "for t in range(8):\n",
    "    print(t,'=>',len(list_frames[t].iloc[:,:][list_frames[t].iloc[:,-1].isna()].values),'-',end=' ')\n",
    "    print(list_frames[t].iloc[:,:][list_frames[t].iloc[:,-1].isna()].values)"
   ]
  },
  {
   "cell_type": "code",
   "execution_count": 178,
   "metadata": {},
   "outputs": [],
   "source": [
    "# Making the DataFrame\n",
    "\n",
    "dic_cursos = {}\n",
    "for curso in cursos:\n",
    "    can=[0 for x in range(8)]\n",
    "    # print(curso)\n",
    "    for t in range(8):\n",
    "        temp = sum([int(x[-1]) for x in list_frames[t][list_frames[t].iloc[:,0].str.contains(curso)].values])\n",
    "        # print(temp,end=' ')\n",
    "        can[t]=temp\n",
    "    # print('-----------------------------------')\n",
    "    dic_cursos[curso]=can\n",
    "df_cursos = pd.DataFrame(dic_cursos, index=[x for x in range(2014,2022)])\n",
    "df_cursos = df_cursos.drop(['Total geral','Total Geral','Total','Intervalar Psicologia'],axis=1)\n",
    "df_cursos = df_cursos.T"
   ]
  },
  {
   "cell_type": "code",
   "execution_count": 196,
   "metadata": {},
   "outputs": [],
   "source": [
    "# Corrections and Revisions\n",
    "\n",
    "tags = {'História':['Historia','História Mosqueiro'],\n",
    "'Artes Visuais': ['Artes visuais'],\n",
    "'Terapia Ocupacional':['Terapia ocupacional'],\n",
    "'Licenciatura Integrada em Educação em Ciências Matemática e Linguagens':['Licenciatura Integrada em Ciências Matemática e Linguagens','Licenciatura Integrada em educação'],\n",
    "'Economia':['Ciências Econômicas'],\n",
    "'Produção Multimídia':['Tecnologia em Produção Multimídia'],\n",
    "'Arquitetura e Urbanismo':['Arquitetura e urbanismo'],\n",
    "'Ciências Sociais':['Ciências Sociais Aplicadas']\n",
    "}\n",
    "\n",
    "for tag in tags:\n",
    "    can=df_cursos.loc[tag]\n",
    "    for t in tags[tag]:\n",
    "        can+=df_cursos.loc[t]\n",
    "        df_cursos = df_cursos.drop(t)\n",
    "    df_cursos.loc[tag]=can\n",
    "\n",
    "reps = {'Matemática':['Licenciatura Integrada em Educação em Ciências Matemática e Linguagens'],\n",
    "'Física':['Educação Física'],\n",
    "'Química':['Engenharia Química', 'Química Industrial'],\n",
    "'Engenharia Sanitária':['Engenharia Sanitária e Ambiental']\n",
    "}\n",
    "\n",
    "for rep in reps:\n",
    "    can=df_cursos.loc[rep]\n",
    "    for t in reps[rep]:\n",
    "        can-=df_cursos.loc[t]\n",
    "    df_cursos.loc[rep]=can\n",
    "\n",
    "df_cursos.loc['Licenciatura Integrada em Educação em Ciências Matemática e Linguagens'][2015]=21\n",
    "df_cursos.loc['Matemática'][2015]=32\n",
    "df_cursos.loc['Produção Multimídia'][2016]=1\n",
    "df_cursos.loc['Produção Multimídia'][2017]=5\n",
    "df_cursos.loc['Economia'][2017]=184\n",
    "df_cursos.loc['Produção Multimídia'][2018]=df_cursos.loc['Produção Multimídia'][2018]/2\n",
    "df_cursos.loc['Ciências Sociais'][2019]=29\n",
    "df_cursos.loc['História'][2021]=21\n",
    "df_cursos.loc['Letras'][2021]=55\n",
    "df_cursos.loc['Nutrição'][2021]=12"
   ]
  },
  {
   "cell_type": "code",
   "execution_count": 197,
   "metadata": {
    "collapsed": true,
    "jupyter": {
     "outputs_hidden": true
    },
    "tags": []
   },
   "outputs": [
    {
     "name": "stdout",
     "output_type": "stream",
     "text": [
      "Cinema e Audiovisual                                                       3\n",
      "Dança                                                                      3\n",
      "Museologia                                                                 2\n",
      "Música                                                                     0\n",
      "Teatro                                                                     6\n",
      "Biomedicina                                                                6\n",
      "Biotecnologia                                                             10\n",
      "Ciências Biológicas                                                       16\n",
      "Educação Física                                                            2\n",
      "Pedagogia                                                                 16\n",
      "Ciência da Computação                                                      4\n",
      "Ciências Naturais                                                         18\n",
      "Estatística                                                                8\n",
      "Física                                                                    41\n",
      "Matemática                                                                22\n",
      "Química                                                                   13\n",
      "Química Industrial                                                        11\n",
      "Sistemas de Informação                                                     6\n",
      "Direito                                                                   13\n",
      "Enfermagem                                                                11\n",
      "Farmácia                                                                  14\n",
      "Fisioterapia                                                               8\n",
      "Medicina                                                                   6\n",
      "Nutrição                                                                  12\n",
      "Odontologia                                                               13\n",
      "Administração                                                             21\n",
      "Arquivologia                                                               6\n",
      "Biblioteconomia                                                           14\n",
      "Ciências Contábeis                                                        16\n",
      "Serviço Social                                                            21\n",
      "Turismo                                                                   25\n",
      "Licenciatura Integrada em Educação em Ciências Matemática e Linguagens     7\n",
      "Ciências Sociais                                                          22\n",
      "Filosofia                                                                 16\n",
      "Geografia                                                                 10\n",
      "História                                                                  21\n",
      "Psicologia                                                                 5\n",
      "Geofísica                                                                 19\n",
      "Geologia                                                                  12\n",
      "Meteorologia                                                              16\n",
      "Oceanografia                                                               6\n",
      "Comunicação Social                                                         8\n",
      "Letras                                                                    55\n",
      "Engenharia Civil                                                          23\n",
      "Engenharia da Computação                                                  12\n",
      "Engenharia de Alimentos                                                    8\n",
      "Engenharia de Telecomunicações                                            15\n",
      "Engenharia Elétrica                                                       13\n",
      "Engenharia Mecânica                                                       21\n",
      "Engenharia Naval                                                           4\n",
      "Engenharia Química                                                        15\n",
      "Engenharia Sanitária                                                       0\n",
      "Engenharia Sanitária e Ambiental                                          17\n",
      "Engenharia Ferroviária e Logística                                         5\n",
      "Engenharia Biomédica                                                      10\n",
      "Artes Visuais                                                              8\n",
      "Terapia Ocupacional                                                        7\n",
      "Arquitetura e Urbanismo                                                    6\n",
      "Engenharia de Bioprocessos                                                 5\n",
      "Desenvolvimento Rural                                                     13\n",
      "Produção Multimídia                                                        3\n",
      "Economia                                                                  22\n",
      "Conservação e Restauro                                                     5\n",
      "Produção Cênica                                                            3\n",
      "Educação Artística                                                         0\n",
      "Name: 2021, dtype: int64\n"
     ]
    }
   ],
   "source": [
    "with pd.option_context('display.max_rows',None,'display.max_columns',None):\n",
    "    print(df_cursos.T.loc[2021])"
   ]
  },
  {
   "cell_type": "code",
   "execution_count": 184,
   "metadata": {
    "collapsed": true,
    "jupyter": {
     "outputs_hidden": true
    },
    "tags": []
   },
   "outputs": [
    {
     "name": "stdout",
     "output_type": "stream",
     "text": [
      "Cinema e Audiovisual - 3\n",
      "Dança - 3\n",
      "Museologia - 2\n",
      "Música - 0\n",
      "Teatro - 6\n",
      "Biomedicina - 6\n",
      "Biotecnologia - 10\n",
      "Ciências Biológicas - 16\n",
      "Educação Física - 2\n",
      "Pedagogia - 16\n",
      "Ciência da Computação - 4\n",
      "Ciências Naturais - 18\n",
      "Estatística - 8\n",
      "Física - 41\n",
      "Matemática - 22\n",
      "Química - 13\n",
      "Química Industrial - 11\n",
      "Sistemas de Informação - 6\n",
      "Direito - 13\n",
      "Enfermagem - 11\n",
      "Farmácia - 14\n",
      "Fisioterapia - 8\n",
      "Medicina - 6\n",
      "Nutrição - 0\n",
      "Odontologia - 13\n",
      "Administração - 21\n",
      "Arquivologia - 6\n",
      "Biblioteconomia - 14\n",
      "Ciências Contábeis - 16\n",
      "Serviço Social - 21\n",
      "Turismo - 25\n",
      "Licenciatura Integrada em Educação em Ciências Matemática e Linguagens - 7\n",
      "Ciências Sociais - 22\n",
      "Filosofia - 16\n",
      "Geografia - 10\n",
      "História - 23\n",
      "Psicologia - 5\n",
      "Geofísica - 19\n",
      "Geologia - 12\n",
      "Meteorologia - 16\n",
      "Oceanografia - 6\n",
      "Comunicação Social - 8\n",
      "Letras - 57\n",
      "Engenharia Civil - 23\n",
      "Engenharia da Computação - 12\n",
      "Engenharia de Alimentos - 8\n",
      "Engenharia de Telecomunicações - 15\n",
      "Engenharia Elétrica - 13\n",
      "Engenharia Mecânica - 21\n",
      "Engenharia Naval - 4\n",
      "Engenharia Química - 15\n",
      "Engenharia Sanitária - 0\n",
      "Engenharia Sanitária e Ambiental - 17\n",
      "Engenharia Ferroviária e Logística - 5\n",
      "Engenharia Biomédica - 10\n",
      "Artes Visuais - 8\n",
      "Terapia Ocupacional - 7\n",
      "Arquitetura e Urbanismo - 6\n",
      "Engenharia de Bioprocessos - 5\n",
      "Desenvolvimento Rural - 13\n",
      "Produção Multimídia - 3\n",
      "Economia - 22\n",
      "Conservação e Restauro - 5\n",
      "Produção Cênica - 3\n",
      "Educação Artística - 0\n",
      "---------------------------------------------------------------\n"
     ]
    }
   ],
   "source": [
    "for t in range(2021,2022):\n",
    "    print('\\n'.join([f'{x} - {y}' for (x,y) in zip(df_cursos[t].index,df_cursos[t])]))\n",
    "    print('---------------------------------------------------------------')"
   ]
  },
  {
   "cell_type": "code",
   "execution_count": 187,
   "metadata": {},
   "outputs": [],
   "source": [
    "df_cursos.to_csv(os.path.join(r'C:\\Users\\gabri\\Workplace\\LabEstat\\code\\data\\out','datacursos.csv'), index=True)"
   ]
  }
 ],
 "metadata": {
  "kernelspec": {
   "display_name": "Python 3 (ipykernel)",
   "language": "python",
   "name": "python3"
  },
  "language_info": {
   "codemirror_mode": {
    "name": "ipython",
    "version": 3
   },
   "file_extension": ".py",
   "mimetype": "text/x-python",
   "name": "python",
   "nbconvert_exporter": "python",
   "pygments_lexer": "ipython3",
   "version": "3.10.3"
  }
 },
 "nbformat": 4,
 "nbformat_minor": 4
}
