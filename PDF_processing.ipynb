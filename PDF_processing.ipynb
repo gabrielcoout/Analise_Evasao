{
 "cells": [
  {
   "cell_type": "code",
   "execution_count": 1,
   "id": "b25efcb4",
   "metadata": {},
   "outputs": [],
   "source": [
    "from PDF_obj import PDF\n",
    "import re"
   ]
  },
  {
   "cell_type": "code",
   "execution_count": 2,
   "id": "63aa7058",
   "metadata": {},
   "outputs": [],
   "source": [
    "columns16=['Área de Conhecimento/Curso ',\n",
    "'Código do Curso',\n",
    "'Cadastro Cancelado' ,\n",
    "'Cancelamento Novo Vestibular', \n",
    "'Cancelamento Judicial' ,\n",
    "'Cancelamento Por CRPL Zero' ,\n",
    "'Decurso de Prazo Máximo p/ Conclusão de Curso' ,\n",
    "'Desistência' ,\n",
    "'Excluído Art.45 Possui Outro Curso' ,\n",
    "'Falecimento do Aluno' ,\n",
    "'Limite de Trancamento' ,\n",
    "'Prescrito',\n",
    "'Término do Benefício do Convênio',\n",
    "'Transferência p/ Outra IES',\n",
    "'Total Geral']\n"
   ]
  },
  {
   "cell_type": "code",
   "execution_count": 3,
   "id": "800c8c9d",
   "metadata": {},
   "outputs": [],
   "source": [
    "pattern = r'^(.*)(\\s[0-9]+\\s[0-9]+\\s[0-9]+\\s[0-9]+\\s[0-9]+\\s[0-9]+\\s[0-9]+\\s[0-9]+\\s[0-9]+\\s[0-9]+\\s[0-9]+\\s[0-9]+\\s[0-9]+\\s[0-9]+)'"
   ]
  },
  {
   "cell_type": "code",
   "execution_count": 5,
   "id": "f7773983",
   "metadata": {},
   "outputs": [
    {
     "name": "stdout",
     "output_type": "stream",
     "text": [
      "['Ciência da Computação,49,0,1,0,0,0,12,0,0,0,0,0,0,13\\n', 'Ciências Naturais (Licenciatura),54,0,0,0,0,0,7,0,0,0,9,0,0,16\\n', 'Engenharia da Computação,68,0,1,0,0,0,31,0,0,0,0,0,1,33\\n', 'Estatística - Bacharelado,78,1,1,0,0,0,12,0,0,0,0,0,1,15\\n', 'Física,81,0,0,0,0,0,44,3,0,0,2,0,1,50\\n', 'Geofísica,83,0,0,0,0,1,16,0,0,0,0,0,0,17\\n', 'Geologia,85,0,0,0,0,1,11,0,0,0,1,0,0,13\\n', 'Matemática,96,0,1,0,0,0,29,0,0,0,0,0,1,31\\n', 'Meteorologia,98,0,3,0,0,0,15,0,0,0,0,0,0,18\\n', 'Oceanografia,103,0,0,1,0,0,17,0,0,0,3,0,0,21\\n', 'Química,108,0,0,0,0,0,25,1,0,0,0,0,1,27\\n', 'Química Industrial,109,0,0,0,0,0,7,0,0,0,0,0,0,7\\n', 'Sistemas de Informação,111,0,0,0,0,0,9,0,0,0,0,0,1,10\\n', 'Física - Parfor,411,0,0,0,0,0,2,0,0,0,0,0,0,2\\n', 'Matemática - Parfor,484,0,0,0,0,0,1,0,0,0,0,0,0,1\\n', 'Ciências Biológicas,50,0,2,0,0,0,14,1,1,0,2,0,0,20\\n', 'Engenharia Biomédica,66,0,0,0,0,0,14,0,0,0,0,0,0,14\\n', 'Engenharia Civil,67,0,0,0,0,1,27,0,0,0,0,0,1,29\\n', 'Engenharia de Telecomunicações,70,0,0,0,0,0,12,0,0,0,0,0,0,12\\n', 'Engenharia Elétrica,71,0,0,0,0,0,24,1,0,0,2,0,0,27\\n', 'Engenharia Ferroviária e Logística,636,0,0,0,0,0,4,0,0,0,0,0,0,4\\n', 'Engenharia Mecânica,21,0,1,0,0,0,14,0,0,0,0,0,0,15\\n', 'Engenharia Naval,74,0,0,0,0,0,5,0,0,0,0,0,0,5\\n', 'Engenharia Química 75,0,2,0,0,0,39,2,0,0,0,0,0,43\\n104\\n', 'Engenharia Sanitária,76,0,0,0,0,1,0,0,0,6,0,0,0,7\\n', 'Engenharia Sanitária e Ambiental,77,0,0,0,0,0,16,0,0,0,0,0,0,16\\n', 'Educação Física,64,0,0,0,0,0,7,0,0,0,0,0,0,7\\n', 'Enfermagem,65,0,0,0,0,0,12,0,0,0,0,0,0,12\\n', 'Farmácia,79,0,0,0,0,0,14,0,0,0,0,0,0,14\\n', 'Fisioterapia,82,0,0,0,0,0,3,0,0,0,1,0,0,4\\n', 'Medicina,97,0,0,0,0,0,3,1,0,0,0,2,0,6\\n', 'Nutrição,101,0,1,0,0,0,7,0,0,0,0,0,0,8\\n', 'Odontologia,104,0,4,0,0,0,19,1,1,0,0,0,1,26\\n', 'Terapia Ocupacional,116,0,0,0,0,0,4,0,0,0,0,0,1,5\\n', 'Engenharia de Alimentos,69,0,1,0,0,0,18,0,0,0,2,0,1,22\\n', 'Administração,42,1,1,0,0,0,16,0,0,0,0,0,0,18\\n', 'Arquitetura e Urbanismo,43,0,0,0,0,0,10,1,0,0,5,1,0,17\\n', 'Arquivologia,44,0,1,0,0,0,4,0,0,0,0,0,0,5\\n', 'Biblioteconomia,46,0,2,0,0,0,7,1,0,0,0,0,0,10\\n', 'Ciências Contábeis,51,0,1,0,0,0,14,2,0,0,0,0,1,18\\n', 'Ciências econômicas,53,0,2,0,0,0,31,3,2,0,0,0,1,39\\n', 'Comunicação Social,57,0,1,0,0,0,6,0,0,0,4,0,0,11\\n', 'Direito,61,0,1,1,0,1,21,2,1,0,0,0,3,30\\n', 'Museologia (Bacharelado),99,0,1,0,0,0,3,0,0,0,0,0,0,4\\n', 'Serviço Social,110,0,0,0,0,0,12,0,0,0,0,0,0,12\\n', 'Turismo,117,0,2,0,0,0,20,0,0,0,0,0,0,22\\n', 'Ciências Sociais,55,0,3,0,0,0,20,1,0,0,1,0,0,25\\n', 'Filosofia (Bacharelado/Licenciatura) 80,0,1,0,0,0,13,0,0,0,5,0,0,19\\n105\\n', 'Geografia,84,1,0,0,0,0,10,0,0,0,0,0,0,11\\n', 'Historia,86,0,2,0,0,0,22,0,0,0,0,0,0,24\\n', 'Pedagogia,105,0,3,0,0,0,13,1,0,0,0,0,2,19\\n', 'Psicologia - Formação do Psicólogo,107,0,1,0,0,0,13,3,0,0,1,0,0,18\\n', 'Pedagogia - Parfor,516,0,0,0,0,0,1,0,0,0,0,0,0,1\\n', 'Artes Visuais (Bacharelado/Licenciatura),45,1,1,1,0,0,4,0,0,0,0,0,0,7\\n', 'Cinema e Audiovisual,615,0,0,0,0,0,2,0,0,0,0,0,0,2\\n', 'Dança (Licenciatura),60,0,0,0,0,0,1,0,0,0,0,0,0,1\\n', 'Letras (Licenciatura em Língua Alemã),87,0,3,0,0,0,6,0,0,0,0,0,0,9\\n', 'Letras (Licenciatura em Língua Espanhola),88,0,1,0,0,0,5,1,0,0,0,0,1,8\\n', 'Letras (Licenciatura em Língua Francesa),89,0,3,0,0,0,4,0,0,0,0,0,0,7\\n', 'Letras (Licenciatura em Língua Inglesa),90,0,3,0,0,0,15,0,0,0,4,0,1,23\\n', 'Letras (Licenciatura em Língua Portuguesa),91,0,3,0,73,1,18,0,0,1,6,0,0,102\\n', 'Música (Licenciatura),100,1,0,0,0,0,3,0,0,0,2,0,0,6\\n', 'Teatro (Licenciatura),112,0,0,0,0,0,2,0,0,0,0,0,0,2\\n', 'Tecnologia em Produção Multimídia,113,0,0,0,0,0,1,0,0,0,0,0,0,1\\n', 'Cinema e Audiovisual - Intensivo,56,0,0,0,0,0,3,0,0,0,0,0,0,3\\n', 'Letras (Licenciatura em Língua\\n455,0,0,0,0,0,2,0,0,0,0,0,0,2\\n', 'Biomedicina,47,0,0,0,0,0,9,0,0,0,0,0,0,9\\n', 'Biotecnologia,48,0,1,0,0,0,13,1,0,0,0,0,0,15\\n', 'Licenciatura Integrada em educação\\n477,0,0,0,0,0,1,0,0,0,0,0,0,1\\n']\n"
     ]
    }
   ],
   "source": [
    "path = r\"source\\Dados2015.pdf\"\n",
    "data2020 = PDF(pdf_file=path, pattern=pattern)\n",
    "print(data2020.read())\n"
   ]
  },
  {
   "cell_type": "code",
   "execution_count": 5,
   "id": "80236bad",
   "metadata": {},
   "outputs": [],
   "source": [
    "data2020.save_pdf(columns=columns16)"
   ]
  },
  {
   "cell_type": "code",
   "execution_count": 4,
   "id": "da99cac8",
   "metadata": {},
   "outputs": [
    {
     "name": "stdout",
     "output_type": "stream",
     "text": [
      "\n"
     ]
    }
   ],
   "source": [
    "with open(r'data\\Dados2015.csv', 'r') as file:\n",
    "    print(file.read())\n"
   ]
  }
 ],
 "metadata": {
  "kernelspec": {
   "display_name": "Python 3 (ipykernel)",
   "language": "python",
   "name": "python3"
  },
  "language_info": {
   "codemirror_mode": {
    "name": "ipython",
    "version": 3
   },
   "file_extension": ".py",
   "mimetype": "text/x-python",
   "name": "python",
   "nbconvert_exporter": "python",
   "pygments_lexer": "ipython3",
   "version": "3.10.3"
  }
 },
 "nbformat": 4,
 "nbformat_minor": 5
}