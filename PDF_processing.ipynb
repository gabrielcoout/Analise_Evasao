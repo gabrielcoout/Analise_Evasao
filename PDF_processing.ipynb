{
 "cells": [
  {
   "cell_type": "code",
   "execution_count": 10,
   "id": "b25efcb4",
   "metadata": {},
   "outputs": [],
   "source": [
    "from PDF_obj import PDF\n",
    "import pdfplumber\n",
    "import re"
   ]
  },
  {
   "cell_type": "code",
   "execution_count": 25,
   "id": "63aa7058",
   "metadata": {},
   "outputs": [],
   "source": [
    "columns=['Instituto/Curso',\n",
    " 'Cancelamento por Reopção',\n",
    " 'Cancelamento por CRPL Zero',\n",
    " 'Decurso de Prazo Máximo para Conclusão de Curso',\n",
    " 'Desistência',\n",
    " 'Possui Outro Curso',\n",
    " 'Falecimento do Aluno',\n",
    " 'Limite de Trancamento',\n",
    " 'Prescrito',\n",
    " 'Programa Cancelado',\n",
    " 'Transferência para Outra IES',\n",
    "'Total']"
   ]
  },
  {
   "cell_type": "code",
   "execution_count": 26,
   "id": "800c8c9d",
   "metadata": {},
   "outputs": [],
   "source": [
    "pattern = r'^([A-Z][A-Za-z-\\s()ôêóáíé]+)(\\s[0-9]+\\s[0-9]+\\s+[0-9]+\\s+[0-9]+\\s+[0-9]+\\s+[0-9]+\\s+[0-9]+\\s+[0-9]+\\s+[0-9]+\\s[0-9]+\\s[0-9]+)'"
   ]
  },
  {
   "cell_type": "code",
   "execution_count": 23,
   "id": "f7773983",
   "metadata": {},
   "outputs": [],
   "source": [
    "path = r\"source\\Dados2017.pdf\"\n",
    "data2017 = PDF(pdf_file=path, pattern=pattern)\n",
    "data2017.save_pdf(columns=columns)"
   ]
  },
  {
   "cell_type": "code",
   "execution_count": null,
   "id": "2ffc0b70",
   "metadata": {},
   "outputs": [],
   "source": []
  }
 ],
 "metadata": {
  "kernelspec": {
   "display_name": "lab",
   "language": "python",
   "name": "python3"
  },
  "language_info": {
   "codemirror_mode": {
    "name": "ipython",
    "version": 3
   },
   "file_extension": ".py",
   "mimetype": "text/x-python",
   "name": "python",
   "nbconvert_exporter": "python",
   "pygments_lexer": "ipython3",
   "version": "3.10.3"
  }
 },
 "nbformat": 4,
 "nbformat_minor": 5
}
